{
 "cells": [
  {
   "cell_type": "markdown",
   "id": "e4438893",
   "metadata": {},
   "source": [
    "# Lets do Heatmaps"
   ]
  },
  {
   "cell_type": "code",
   "execution_count": 1,
   "id": "ac4a8f2f",
   "metadata": {},
   "outputs": [],
   "source": [
    "#Just for context, heat maps are nothinh but you know, 2 histograms mixed together. Though lets start by importing our libraries\n",
    "import numpy as np\n",
    "import pandas as pd\n",
    "import matplotlib.pyplot as plt"
   ]
  },
  {
   "cell_type": "code",
   "execution_count": 2,
   "id": "6e5f68fb",
   "metadata": {},
   "outputs": [
    {
     "data": {
      "text/html": [
       "<div>\n",
       "<style scoped>\n",
       "    .dataframe tbody tr th:only-of-type {\n",
       "        vertical-align: middle;\n",
       "    }\n",
       "\n",
       "    .dataframe tbody tr th {\n",
       "        vertical-align: top;\n",
       "    }\n",
       "\n",
       "    .dataframe thead th {\n",
       "        text-align: right;\n",
       "    }\n",
       "</style>\n",
       "<table border=\"1\" class=\"dataframe\">\n",
       "  <thead>\n",
       "    <tr style=\"text-align: right;\">\n",
       "      <th></th>\n",
       "      <th>Plaza ID</th>\n",
       "      <th>Date</th>\n",
       "      <th>Hour</th>\n",
       "      <th>Direction</th>\n",
       "      <th># Vehicles - E-ZPass</th>\n",
       "      <th># Vehicles - VToll</th>\n",
       "    </tr>\n",
       "  </thead>\n",
       "  <tbody>\n",
       "    <tr>\n",
       "      <th>0</th>\n",
       "      <td>21</td>\n",
       "      <td>08/06/2022</td>\n",
       "      <td>0</td>\n",
       "      <td>I</td>\n",
       "      <td>2820</td>\n",
       "      <td>649</td>\n",
       "    </tr>\n",
       "    <tr>\n",
       "      <th>1</th>\n",
       "      <td>21</td>\n",
       "      <td>08/06/2022</td>\n",
       "      <td>1</td>\n",
       "      <td>I</td>\n",
       "      <td>2124</td>\n",
       "      <td>474</td>\n",
       "    </tr>\n",
       "    <tr>\n",
       "      <th>2</th>\n",
       "      <td>21</td>\n",
       "      <td>08/06/2022</td>\n",
       "      <td>2</td>\n",
       "      <td>I</td>\n",
       "      <td>1617</td>\n",
       "      <td>391</td>\n",
       "    </tr>\n",
       "    <tr>\n",
       "      <th>3</th>\n",
       "      <td>21</td>\n",
       "      <td>08/06/2022</td>\n",
       "      <td>3</td>\n",
       "      <td>I</td>\n",
       "      <td>1228</td>\n",
       "      <td>358</td>\n",
       "    </tr>\n",
       "    <tr>\n",
       "      <th>4</th>\n",
       "      <td>21</td>\n",
       "      <td>08/06/2022</td>\n",
       "      <td>4</td>\n",
       "      <td>I</td>\n",
       "      <td>1604</td>\n",
       "      <td>368</td>\n",
       "    </tr>\n",
       "  </tbody>\n",
       "</table>\n",
       "</div>"
      ],
      "text/plain": [
       "   Plaza ID        Date  Hour Direction  # Vehicles - E-ZPass  \\\n",
       "0        21  08/06/2022     0         I                  2820   \n",
       "1        21  08/06/2022     1         I                  2124   \n",
       "2        21  08/06/2022     2         I                  1617   \n",
       "3        21  08/06/2022     3         I                  1228   \n",
       "4        21  08/06/2022     4         I                  1604   \n",
       "\n",
       "   # Vehicles - VToll  \n",
       "0                 649  \n",
       "1                 474  \n",
       "2                 391  \n",
       "3                 358  \n",
       "4                 368  "
      ]
     },
     "execution_count": 2,
     "metadata": {},
     "output_type": "execute_result"
    }
   ],
   "source": [
    "#Lets first import our databases\n",
    "DataFrame=pd.read_csv(\"assets/NYChourlytraffic.csv\")\n",
    "DataFrame.head()"
   ]
  },
  {
   "cell_type": "code",
   "execution_count": 3,
   "id": "999d4836",
   "metadata": {},
   "outputs": [],
   "source": [
    "#Now lets just convert our date column into datetime.\n",
    "DataFrame[\"Date\"]=pd.to_datetime(DataFrame[\"Date\"])"
   ]
  },
  {
   "cell_type": "code",
   "execution_count": 4,
   "id": "196fb58b",
   "metadata": {},
   "outputs": [
    {
     "data": {
      "text/html": [
       "<div>\n",
       "<style scoped>\n",
       "    .dataframe tbody tr th:only-of-type {\n",
       "        vertical-align: middle;\n",
       "    }\n",
       "\n",
       "    .dataframe tbody tr th {\n",
       "        vertical-align: top;\n",
       "    }\n",
       "\n",
       "    .dataframe thead th {\n",
       "        text-align: right;\n",
       "    }\n",
       "</style>\n",
       "<table border=\"1\" class=\"dataframe\">\n",
       "  <thead>\n",
       "    <tr style=\"text-align: right;\">\n",
       "      <th></th>\n",
       "      <th>Plaza ID</th>\n",
       "      <th>Date</th>\n",
       "      <th>Hour</th>\n",
       "      <th>Direction</th>\n",
       "      <th># Vehicles - E-ZPass</th>\n",
       "      <th># Vehicles - VToll</th>\n",
       "    </tr>\n",
       "  </thead>\n",
       "  <tbody>\n",
       "    <tr>\n",
       "      <th>0</th>\n",
       "      <td>21</td>\n",
       "      <td>2022-08-06</td>\n",
       "      <td>0</td>\n",
       "      <td>I</td>\n",
       "      <td>2820</td>\n",
       "      <td>649</td>\n",
       "    </tr>\n",
       "    <tr>\n",
       "      <th>1</th>\n",
       "      <td>21</td>\n",
       "      <td>2022-08-06</td>\n",
       "      <td>1</td>\n",
       "      <td>I</td>\n",
       "      <td>2124</td>\n",
       "      <td>474</td>\n",
       "    </tr>\n",
       "    <tr>\n",
       "      <th>2</th>\n",
       "      <td>21</td>\n",
       "      <td>2022-08-06</td>\n",
       "      <td>2</td>\n",
       "      <td>I</td>\n",
       "      <td>1617</td>\n",
       "      <td>391</td>\n",
       "    </tr>\n",
       "    <tr>\n",
       "      <th>3</th>\n",
       "      <td>21</td>\n",
       "      <td>2022-08-06</td>\n",
       "      <td>3</td>\n",
       "      <td>I</td>\n",
       "      <td>1228</td>\n",
       "      <td>358</td>\n",
       "    </tr>\n",
       "    <tr>\n",
       "      <th>4</th>\n",
       "      <td>21</td>\n",
       "      <td>2022-08-06</td>\n",
       "      <td>4</td>\n",
       "      <td>I</td>\n",
       "      <td>1604</td>\n",
       "      <td>368</td>\n",
       "    </tr>\n",
       "  </tbody>\n",
       "</table>\n",
       "</div>"
      ],
      "text/plain": [
       "   Plaza ID       Date  Hour Direction  # Vehicles - E-ZPass  \\\n",
       "0        21 2022-08-06     0         I                  2820   \n",
       "1        21 2022-08-06     1         I                  2124   \n",
       "2        21 2022-08-06     2         I                  1617   \n",
       "3        21 2022-08-06     3         I                  1228   \n",
       "4        21 2022-08-06     4         I                  1604   \n",
       "\n",
       "   # Vehicles - VToll  \n",
       "0                 649  \n",
       "1                 474  \n",
       "2                 391  \n",
       "3                 358  \n",
       "4                 368  "
      ]
     },
     "execution_count": 4,
     "metadata": {},
     "output_type": "execute_result"
    }
   ],
   "source": [
    "DataFrame.head()"
   ]
  },
  {
   "cell_type": "code",
   "execution_count": 7,
   "id": "394bdc60",
   "metadata": {},
   "outputs": [
    {
     "name": "stdout",
     "output_type": "stream",
     "text": [
      "[2022 2021 2020 2019 2018 2017 2016 2015 2014 2013 2012 2011 2010]\n"
     ]
    }
   ],
   "source": [
    "print(DataFrame[\"Date\"].dt.year.unique())"
   ]
  },
  {
   "cell_type": "code",
   "execution_count": 8,
   "id": "5493e5dd",
   "metadata": {},
   "outputs": [
    {
     "name": "stdout",
     "output_type": "stream",
     "text": [
      "[21 22 23 24 25 26 27 28 29 30  3  9 11  1  2  5  6  7  8  4]\n"
     ]
    }
   ],
   "source": [
    "print(DataFrame[\"Plaza ID\"].unique())"
   ]
  },
  {
   "cell_type": "code",
   "execution_count": 10,
   "id": "cedb8ddd",
   "metadata": {},
   "outputs": [],
   "source": [
    "#Lets just refine the data. Lets just concentrate on 1 sector. Though also note we are droping down the date selection to \n",
    "# 2015 January to May.\n",
    "#Lets declare a new database.DB1\n",
    "DB1=DataFrame[(DataFrame[\"Plaza ID\"]==5) & (DataFrame[\"Date\"]>'2014-12-31') & (DataFrame[\"Date\"]<'2015-06-01')]"
   ]
  },
  {
   "cell_type": "code",
   "execution_count": 12,
   "id": "c81f650f",
   "metadata": {},
   "outputs": [
    {
     "data": {
      "text/html": [
       "<div>\n",
       "<style scoped>\n",
       "    .dataframe tbody tr th:only-of-type {\n",
       "        vertical-align: middle;\n",
       "    }\n",
       "\n",
       "    .dataframe tbody tr th {\n",
       "        vertical-align: top;\n",
       "    }\n",
       "\n",
       "    .dataframe thead th {\n",
       "        text-align: right;\n",
       "    }\n",
       "</style>\n",
       "<table border=\"1\" class=\"dataframe\">\n",
       "  <thead>\n",
       "    <tr style=\"text-align: right;\">\n",
       "      <th></th>\n",
       "      <th>Plaza ID</th>\n",
       "      <th>Date</th>\n",
       "      <th>Hour</th>\n",
       "      <th>Direction</th>\n",
       "      <th># Vehicles - E-ZPass</th>\n",
       "      <th># Vehicles - VToll</th>\n",
       "    </tr>\n",
       "  </thead>\n",
       "  <tbody>\n",
       "    <tr>\n",
       "      <th>1035460</th>\n",
       "      <td>5</td>\n",
       "      <td>2015-05-31</td>\n",
       "      <td>0</td>\n",
       "      <td>I</td>\n",
       "      <td>234</td>\n",
       "      <td>36</td>\n",
       "    </tr>\n",
       "    <tr>\n",
       "      <th>1035461</th>\n",
       "      <td>5</td>\n",
       "      <td>2015-05-31</td>\n",
       "      <td>0</td>\n",
       "      <td>O</td>\n",
       "      <td>110</td>\n",
       "      <td>40</td>\n",
       "    </tr>\n",
       "    <tr>\n",
       "      <th>1035462</th>\n",
       "      <td>5</td>\n",
       "      <td>2015-05-31</td>\n",
       "      <td>1</td>\n",
       "      <td>I</td>\n",
       "      <td>120</td>\n",
       "      <td>22</td>\n",
       "    </tr>\n",
       "    <tr>\n",
       "      <th>1035463</th>\n",
       "      <td>5</td>\n",
       "      <td>2015-05-31</td>\n",
       "      <td>1</td>\n",
       "      <td>O</td>\n",
       "      <td>59</td>\n",
       "      <td>23</td>\n",
       "    </tr>\n",
       "    <tr>\n",
       "      <th>1035464</th>\n",
       "      <td>5</td>\n",
       "      <td>2015-05-31</td>\n",
       "      <td>2</td>\n",
       "      <td>I</td>\n",
       "      <td>74</td>\n",
       "      <td>20</td>\n",
       "    </tr>\n",
       "  </tbody>\n",
       "</table>\n",
       "</div>"
      ],
      "text/plain": [
       "         Plaza ID       Date  Hour Direction  # Vehicles - E-ZPass  \\\n",
       "1035460         5 2015-05-31     0         I                   234   \n",
       "1035461         5 2015-05-31     0         O                   110   \n",
       "1035462         5 2015-05-31     1         I                   120   \n",
       "1035463         5 2015-05-31     1         O                    59   \n",
       "1035464         5 2015-05-31     2         I                    74   \n",
       "\n",
       "         # Vehicles - VToll  \n",
       "1035460                  36  \n",
       "1035461                  40  \n",
       "1035462                  22  \n",
       "1035463                  23  \n",
       "1035464                  20  "
      ]
     },
     "execution_count": 12,
     "metadata": {},
     "output_type": "execute_result"
    }
   ],
   "source": [
    "DB1.head()"
   ]
  },
  {
   "cell_type": "code",
   "execution_count": null,
   "id": "9e45a88c",
   "metadata": {},
   "outputs": [],
   "source": []
  },
  {
   "cell_type": "code",
   "execution_count": 14,
   "id": "97dd852b",
   "metadata": {},
   "outputs": [
    {
     "data": {
      "image/png": "[encoded data removed]",
      "text/plain": [
       "<Figure size 1000x1000 with 1 Axes>"
      ]
     },
     "metadata": {},
     "output_type": "display_data"
    }
   ],
   "source": [
    "#Next lets plot a histogram. This plots data of how many vehicles pass tolls using EZ Passes for a day, hourly.\n",
    "plt.figure(figsize=(10,10))\n",
    "\n",
    "plt.hist(DB1[\"Hour\"],bins=24,weights=DB1[\"# Vehicles - E-ZPass\"]);#Bins is set to 24, since there are 24 hours"
   ]
  },
  {
   "cell_type": "code",
   "execution_count": 16,
   "id": "92e9c4ca",
   "metadata": {},
   "outputs": [
    {
     "data": {
      "image/png": "[encoded data removed]",
      "text/plain": [
       "<Figure size 1000x1000 with 1 Axes>"
      ]
     },
     "metadata": {},
     "output_type": "display_data"
    }
   ],
   "source": [
    "#lETS plot another histogram. This plots traffic through tolls on a week basis\n",
    "plt.figure(figsize=(10,10))\n",
    "\n",
    "plt.hist(DB1[\"Date\"].dt.dayofweek,bins=7,weights=DB1[\"# Vehicles - E-ZPass\"]);"
   ]
  },
  {
   "cell_type": "code",
   "execution_count": 22,
   "id": "f09b964e",
   "metadata": {},
   "outputs": [
    {
     "data": {
      "image/png": "[encoded data removed]",
      "text/plain": [
       "<Figure size 1000x1000 with 1 Axes>"
      ]
     },
     "metadata": {},
     "output_type": "display_data"
    }
   ],
   "source": [
    "#Lets mix the two histogram, to form a heatmap\n",
    "\n",
    "plt.figure(figsize=(10,10))\n",
    "\n",
    "plt.hist2d(DB1[\"Hour\"],DB1[\"Date\"].dt.dayofweek,bins=[24,7],weights=DB1[\"# Vehicles - E-ZPass\"]);"
   ]
  },
  {
   "cell_type": "code",
   "execution_count": 23,
   "id": "af009167",
   "metadata": {},
   "outputs": [
    {
     "data": {
      "text/plain": [
       "<matplotlib.colorbar.Colorbar at 0x21f59b601c0>"
      ]
     },
     "execution_count": 23,
     "metadata": {},
     "output_type": "execute_result"
    },
    {
     "data": {
      "image/png": "[encoded data removed]",
      "text/plain": [
       "<Figure size 1000x1000 with 2 Axes>"
      ]
     },
     "metadata": {},
     "output_type": "display_data"
    }
   ],
   "source": [
    "plt.figure(figsize=(10,10))\n",
    "\n",
    "plt.hist2d(DB1[\"Hour\"],DB1[\"Date\"].dt.dayofweek,bins=[24,7],weights=DB1[\"# Vehicles - E-ZPass\"]);\n",
    "\n",
    "#Note we are now going to use colour scale to explain shit you know\n",
    "\n",
    "plt.colorbar()"
   ]
  }
 ],
 "metadata": {
  "kernelspec": {
   "display_name": "Python 3 (ipykernel)",
   "language": "python",
   "name": "python3"
  },
  "language_info": {
   "codemirror_mode": {
    "name": "ipython",
    "version": 3
   },
   "file_extension": ".py",
   "mimetype": "text/x-python",
   "name": "python",
   "nbconvert_exporter": "python",
   "pygments_lexer": "ipython3",
   "version": "3.9.13"
  }
 },
 "nbformat": 4,
 "nbformat_minor": 5
}
